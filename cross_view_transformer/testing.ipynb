{
 "cells": [
  {
   "cell_type": "code",
   "execution_count": 1,
   "metadata": {},
   "outputs": [],
   "source": [
    "import json\n",
    "import torch\n",
    "import pdb\n",
    "import pyarrow.feather as feather\n",
    "from typing import List, Tuple, Any, Dict\n",
    "from PIL import Image\n",
    "import numpy as np\n",
    "import pandas as pd\n",
    "import pickle\n",
    "\n",
    "from pathlib import Path\n",
    "from av2.datasets.sensor.av2_sensor_dataloader import AV2SensorDataLoader\n",
    "from av2.datasets.sensor.sensor_dataloader import SensorDataloader\n",
    "from av2.datasets.sensor.constants import RingCameras, AnnotationCategories\n",
    "from av2.geometry.camera.pinhole_camera import PinholeCamera\n",
    "from av2.map.map_api import ArgoverseStaticMap, DrivableAreaMapLayer\n",
    "from av2.geometry.se3 import SE3\n",
    "from av2.geometry.geometry import compute_interior_points_mask\n",
    "from av2.rendering.rasterize import xyz_to_bev\n",
    "from av2.structures.cuboid import CuboidList\n",
    "from av2.utils.io import read_city_SE3_ego, read_img\n",
    "import random\n",
    "\n",
    "\n",
    "STATIC = [\n",
    "    AnnotationCategories.BOLLARD ,\n",
    "    AnnotationCategories.CONSTRUCTION_BARREL ,\n",
    "    AnnotationCategories.CONSTRUCTION_CONE ,\n",
    "    AnnotationCategories.MOBILE_PEDESTRIAN_CROSSING_SIGN ,\n",
    "    AnnotationCategories.SIGN ,\n",
    "    AnnotationCategories.STOP_SIGN ,\n",
    "    AnnotationCategories.TRAFFIC_LIGHT_TRAILER ,\n",
    "    AnnotationCategories.MOBILE_PEDESTRIAN_CROSSING_SIGN ,\n",
    "\n",
    "          ]\n",
    "DYNAMIC = [\n",
    "    AnnotationCategories.ARTICULATED_BUS ,\n",
    "    AnnotationCategories.BICYCLE ,\n",
    "    AnnotationCategories.ANIMAL ,\n",
    "    AnnotationCategories.BICYCLIST ,\n",
    "    AnnotationCategories.BOX_TRUCK ,\n",
    "    AnnotationCategories.BUS ,\n",
    "    AnnotationCategories.DOG ,\n",
    "    AnnotationCategories.LARGE_VEHICLE ,\n",
    "    AnnotationCategories.MESSAGE_BOARD_TRAILER ,\n",
    "    AnnotationCategories.MOTORCYCLE ,\n",
    "    AnnotationCategories.MOTORCYCLIST ,\n",
    "    AnnotationCategories.OFFICIAL_SIGNALER ,\n",
    "    AnnotationCategories.PEDESTRIAN ,\n",
    "    AnnotationCategories.BICYCLIST ,\n",
    "    AnnotationCategories.RAILED_VEHICLE ,\n",
    "    AnnotationCategories.REGULAR_VEHICLE ,\n",
    "    AnnotationCategories.SCHOOL_BUS ,\n",
    "    AnnotationCategories.STROLLER ,\n",
    "    AnnotationCategories.TRUCK ,\n",
    "    AnnotationCategories.TRUCK_CAB ,\n",
    "    AnnotationCategories.VEHICULAR_TRAILER ,\n",
    "    AnnotationCategories.WHEELCHAIR ,\n",
    "    AnnotationCategories.WHEELED_RIDER ,\n",
    "    AnnotationCategories.WHEELED_DEVICE ,\n",
    "          ]\n",
    "NUM_CLASSES = len(STATIC) + len(DYNAMIC)\n",
    "\n"
   ]
  },
  {
   "cell_type": "code",
   "execution_count": 2,
   "metadata": {},
   "outputs": [
    {
     "name": "stdout",
     "output_type": "stream",
     "text": [
      "/coc/pskynet2/apatni30/raster-net/comparison/cross_view_transformers/cross_view_transformer\n"
     ]
    }
   ],
   "source": [
    "import os\n",
    "os.chdir('/coc/pskynet2/apatni30/raster-net/comparison/cross_view_transformers/cross_view_transformer/')\n",
    "print(os.getcwd())"
   ]
  },
  {
   "cell_type": "code",
   "execution_count": 3,
   "metadata": {},
   "outputs": [],
   "source": [
    "from cross_view_transformer.data.argoverse2_dataset import Argoverse2Dataset"
   ]
  },
  {
   "cell_type": "code",
   "execution_count": 4,
   "metadata": {},
   "outputs": [],
   "source": [
    "import pickle\n",
    "with open('/srv/share2/apatni30/tmp/AV2_dataset.pkl', 'rb') as f:\n",
    "    data = pickle.load(f)"
   ]
  },
  {
   "cell_type": "code",
   "execution_count": 5,
   "metadata": {},
   "outputs": [
    {
     "name": "stderr",
     "output_type": "stream",
     "text": [
      "/tmp/ipykernel_14197/1674624226.py:5: FutureWarning: arrays to stack must be passed as a \"sequence\" type such as list or tuple. Support for non-sequence iterables such as generators is deprecated as of NumPy 1.16 and will raise an error in the future.\n",
      "  points_xy_wrt_src = np.vstack(map(np.ravel, np.meshgrid(xpoints, ypoints, zpoints))).T\n"
     ]
    }
   ],
   "source": [
    "pose = data.samples[0]['pose']\n",
    "xpoints = np.arange(-data.bev_info['h_meters']/2,data.bev_info['h_meters']/2,data.bev_info['h_meters']/data.bev_info['h'])\n",
    "ypoints = np.arange(-data.bev_info['w_meters']/2,data.bev_info['w_meters']/2,data.bev_info['w_meters']/data.bev_info['w'])\n",
    "zpoints = np.array([i/10.0 for i in range(20)])\n",
    "points_xy_wrt_src = np.vstack(map(np.ravel, np.meshgrid(xpoints, ypoints, zpoints))).T\n",
    "points_xy_wrt_city = pose.transform_point_cloud(points_xy_wrt_src) "
   ]
  },
  {
   "cell_type": "code",
   "execution_count": 6,
   "metadata": {},
   "outputs": [],
   "source": [
    "cmap = np.zeros(shape=(points_xy_wrt_city.shape[0], 3))\n",
    "drivable_area_raster = data.avm.raster_drivable_area_layer.get_raster_values_at_coords(points_xy_wrt_city, 0)\n",
    "cmap[drivable_area_raster==0] = (0,0,0)\n",
    "cmap[drivable_area_raster==1] = (220,220,220)"
   ]
  },
  {
   "cell_type": "code",
   "execution_count": 7,
   "metadata": {},
   "outputs": [
    {
     "name": "stdout",
     "output_type": "stream",
     "text": [
      "(array([0, 1]), array([613363, 186637]))\n",
      "(array([  0., 220.]), array([1840089,  559911]))\n"
     ]
    },
    {
     "data": {
      "text/plain": [
       "array([[ 171.68438088, 3576.10885001,  -22.50234293],\n",
       "       [ 171.68503285, 3576.10842759,  -22.40234594],\n",
       "       [ 171.68568482, 3576.10800517,  -22.30234896],\n",
       "       ...,\n",
       "       [  68.80880637, 3672.08957022,  -19.72610128],\n",
       "       [  68.80945834, 3672.08914781,  -19.6261043 ],\n",
       "       [  68.81011031, 3672.08872539,  -19.52610732]])"
      ]
     },
     "execution_count": 7,
     "metadata": {},
     "output_type": "execute_result"
    }
   ],
   "source": [
    "print(np.unique(drivable_area_raster, return_counts=True))\n",
    "print(np.unique(cmap,return_counts=True))\n",
    "points_xy_wrt_city"
   ]
  },
  {
   "cell_type": "code",
   "execution_count": 8,
   "metadata": {},
   "outputs": [],
   "source": [
    "import pdb\n",
    "\n",
    "for annotation in CuboidList.from_feather(Path(data.log_specific_dataset_path, 'annotations.feather')):\n",
    "    if annotation.timestamp_ns == data.samples[0][\"token\"]:\n",
    "        annotation = annotation.transform(pose)      \n",
    "        interior_points, is_interior = annotation.compute_interior_points(points_xy_wrt_city)          \n",
    "        if annotation.category in STATIC:\n",
    "            # print(\"static\")\n",
    "            # print(interior_points)\n",
    "            # print(annotation.dst_SE3_object.translation)\n",
    "            # print(annotation.width_m, annotation.length_m, annotation.height_m)\n",
    "            # print(np.count_nonzero(is_interior))\n",
    "            cmap[is_interior] = (255,127,80)            \n",
    "        elif annotation.category in DYNAMIC:\n",
    "            # print(\"dynamic\")\n",
    "            # print(interior_points)\n",
    "            # print(annotation.dst_SE3_object.translation)\n",
    "            # print(annotation.width_m, annotation.length_m, annotation.height_m)\n",
    "            # print(np.count_nonzero(is_interior))\n",
    "            cmap[is_interior] = (30,144,255)"
   ]
  },
  {
   "cell_type": "code",
   "execution_count": 9,
   "metadata": {},
   "outputs": [
    {
     "name": "stdout",
     "output_type": "stream",
     "text": [
      "(array([  0.,  30.,  80., 127., 144., 220., 255.]), array([1836936,    8492,      20,      20,    8492,  537528,    8512]))\n"
     ]
    }
   ],
   "source": [
    "print(np.unique(cmap,return_counts=True))"
   ]
  },
  {
   "cell_type": "code",
   "execution_count": 10,
   "metadata": {},
   "outputs": [
    {
     "name": "stdout",
     "output_type": "stream",
     "text": [
      "(800000, 3)\n",
      "200 200 1\n",
      "100 100 1\n",
      "(800000, 3)\n"
     ]
    }
   ],
   "source": [
    "print(points_xy_wrt_city.shape)\n",
    "print(data.bev_info['h'], data.bev_info['w'], 1)\n",
    "print(data.bev_info['h_meters'], data.bev_info['w_meters'], 1)\n",
    "print(cmap.shape)"
   ]
  },
  {
   "cell_type": "code",
   "execution_count": 11,
   "metadata": {},
   "outputs": [
    {
     "ename": "ValueError",
     "evalue": "operands could not be broadcast together with shapes (800000,2) (3,) (800000,2) ",
     "output_type": "error",
     "traceback": [
      "\u001b[0;31m---------------------------------------------------------------------------\u001b[0m",
      "\u001b[0;31mValueError\u001b[0m                                Traceback (most recent call last)",
      "Cell \u001b[0;32mIn[11], line 1\u001b[0m\n\u001b[0;32m----> 1\u001b[0m output_bev \u001b[39m=\u001b[39m xyz_to_bev(\n\u001b[1;32m      2\u001b[0m     xyz\u001b[39m=\u001b[39;49mpoints_xy_wrt_city,\n\u001b[1;32m      3\u001b[0m     voxel_resolution\u001b[39m=\u001b[39;49m(data\u001b[39m.\u001b[39;49mbev_info[\u001b[39m'\u001b[39;49m\u001b[39mh\u001b[39;49m\u001b[39m'\u001b[39;49m], data\u001b[39m.\u001b[39;49mbev_info[\u001b[39m'\u001b[39;49m\u001b[39mw\u001b[39;49m\u001b[39m'\u001b[39;49m], \u001b[39m1\u001b[39;49m),\n\u001b[1;32m      4\u001b[0m     grid_size_m\u001b[39m=\u001b[39;49m(data\u001b[39m.\u001b[39;49mbev_info[\u001b[39m'\u001b[39;49m\u001b[39mh_meters\u001b[39;49m\u001b[39m'\u001b[39;49m], data\u001b[39m.\u001b[39;49mbev_info[\u001b[39m'\u001b[39;49m\u001b[39mw_meters\u001b[39;49m\u001b[39m'\u001b[39;49m], \u001b[39m1\u001b[39;49m),\n\u001b[1;32m      5\u001b[0m     cmap\u001b[39m=\u001b[39;49mcmap\n\u001b[1;32m      6\u001b[0m )\n",
      "File \u001b[0;32m~/anaconda3/envs/rasternet/lib/python3.8/site-packages/av2/rendering/rasterize.py:67\u001b[0m, in \u001b[0;36mxyz_to_bev\u001b[0;34m(xyz, voxel_resolution, grid_size_m, cmap)\u001b[0m\n\u001b[1;32m     64\u001b[0m cart \u001b[39m=\u001b[39m xyz[\u001b[39m.\u001b[39m\u001b[39m.\u001b[39m\u001b[39m.\u001b[39m, :\u001b[39m-\u001b[39m\u001b[39m1\u001b[39m]\u001b[39m.\u001b[39mcopy()\n\u001b[1;32m     66\u001b[0m \u001b[39m# Move the origin to the center of the image.\u001b[39;00m\n\u001b[0;32m---> 67\u001b[0m cart \u001b[39m+\u001b[39m\u001b[39m=\u001b[39m np\u001b[39m.\u001b[39mdivide(grid_size_m, \u001b[39m2\u001b[39m)\n\u001b[1;32m     69\u001b[0m \u001b[39m# Scale the Cartesian coordinates by the voxel resolution.\u001b[39;00m\n\u001b[1;32m     70\u001b[0m indices: NDArrayInt \u001b[39m=\u001b[39m (cart \u001b[39m/\u001b[39m voxel_resolution)\u001b[39m.\u001b[39mastype(\u001b[39mint\u001b[39m)\n",
      "\u001b[0;31mValueError\u001b[0m: operands could not be broadcast together with shapes (800000,2) (3,) (800000,2) "
     ]
    }
   ],
   "source": [
    "output_bev = xyz_to_bev(\n",
    "    xyz=points_xy_wrt_city,\n",
    "    voxel_resolution=(data.bev_info['h'], data.bev_info['w'], 1),\n",
    "    grid_size_m=(data.bev_info['h_meters'], data.bev_info['w_meters'], 1),\n",
    "    cmap=cmap\n",
    ")"
   ]
  }
 ],
 "metadata": {
  "kernelspec": {
   "display_name": "rasternet",
   "language": "python",
   "name": "python3"
  },
  "language_info": {
   "codemirror_mode": {
    "name": "ipython",
    "version": 3
   },
   "file_extension": ".py",
   "mimetype": "text/x-python",
   "name": "python",
   "nbconvert_exporter": "python",
   "pygments_lexer": "ipython3",
   "version": "3.8.16"
  },
  "orig_nbformat": 4,
  "vscode": {
   "interpreter": {
    "hash": "e08d91b6a2a078695a7516f6a27ba45b23092861ab73d6efa1331f8068174bf5"
   }
  }
 },
 "nbformat": 4,
 "nbformat_minor": 2
}
