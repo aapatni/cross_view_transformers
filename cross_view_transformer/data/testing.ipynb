{
 "cells": [
  {
   "cell_type": "code",
   "execution_count": null,
   "metadata": {},
   "outputs": [],
   "source": [
    "import json\n",
    "import torch\n",
    "import pdb\n",
    "import pyarrow.feather as feather\n",
    "from typing import List, Tuple, Any, Dict\n",
    "from PIL import Image\n",
    "import numpy as np\n",
    "import pandas as pd\n",
    "import pickle\n",
    "\n",
    "from pathlib import Path\n",
    "from .common import get_split, INTERPOLATION, get_view_matrix, get_pose\n",
    "from .transforms import Sample, LoadDataTransform, SaveDataTransform\n",
    "\n",
    "from av2.datasets.sensor.av2_sensor_dataloader import AV2SensorDataLoader\n",
    "from av2.datasets.sensor.sensor_dataloader import SensorDataloader\n",
    "from av2.datasets.sensor.constants import RingCameras, AnnotationCategories\n",
    "from av2.geometry.camera.pinhole_camera import PinholeCamera\n",
    "from av2.map.map_api import ArgoverseStaticMap, DrivableAreaMapLayer\n",
    "from av2.geometry.se3 import SE3\n",
    "from av2.geometry.geometry import compute_interior_points_mask\n",
    "from av2.rendering.rasterize import xyz_to_bev\n",
    "from av2.structures.cuboid import CuboidList\n",
    "from av2.utils.io import read_city_SE3_ego, read_img\n",
    "import random\n",
    "\n",
    "\n",
    "STATIC = [\n",
    "    AnnotationCategories.BOLLARD ,\n",
    "    AnnotationCategories.CONSTRUCTION_BARREL ,\n",
    "    AnnotationCategories.CONSTRUCTION_CONE ,\n",
    "    AnnotationCategories.MOBILE_PEDESTRIAN_CROSSING_SIGN ,\n",
    "    AnnotationCategories.SIGN ,\n",
    "    AnnotationCategories.STOP_SIGN ,\n",
    "    AnnotationCategories.TRAFFIC_LIGHT_TRAILER ,\n",
    "    AnnotationCategories.MOBILE_PEDESTRIAN_CROSSING_SIGN ,\n",
    "\n",
    "          ]\n",
    "DYNAMIC = [\n",
    "    AnnotationCategories.ARTICULATED_BUS ,\n",
    "    AnnotationCategories.BICYCLE ,\n",
    "    AnnotationCategories.ANIMAL ,\n",
    "    AnnotationCategories.BICYCLIST ,\n",
    "    AnnotationCategories.BOX_TRUCK ,\n",
    "    AnnotationCategories.BUS ,\n",
    "    AnnotationCategories.DOG ,\n",
    "    AnnotationCategories.LARGE_VEHICLE ,\n",
    "    AnnotationCategories.MESSAGE_BOARD_TRAILER ,\n",
    "    AnnotationCategories.MOTORCYCLE ,\n",
    "    AnnotationCategories.MOTORCYCLIST ,\n",
    "    AnnotationCategories.OFFICIAL_SIGNALER ,\n",
    "    AnnotationCategories.PEDESTRIAN ,\n",
    "    AnnotationCategories.BICYCLIST ,\n",
    "    AnnotationCategories.RAILED_VEHICLE ,\n",
    "    AnnotationCategories.REGULAR_VEHICLE ,\n",
    "    AnnotationCategories.SCHOOL_BUS ,\n",
    "    AnnotationCategories.STROLLER ,\n",
    "    AnnotationCategories.TRUCK ,\n",
    "    AnnotationCategories.TRUCK_CAB ,\n",
    "    AnnotationCategories.VEHICULAR_TRAILER ,\n",
    "    AnnotationCategories.WHEELCHAIR ,\n",
    "    AnnotationCategories.WHEELED_RIDER ,\n",
    "    AnnotationCategories.WHEELED_DEVICE ,\n",
    "          ]\n",
    "NUM_CLASSES = len(STATIC) + len(DYNAMIC)"
   ]
  },
  {
   "cell_type": "code",
   "execution_count": 17,
   "metadata": {},
   "outputs": [],
   "source": [
    "import os, sys\n",
    "module_path = os.path.abspath(os.path.join('..'))\n",
    "\n",
    "if module_path not in sys.path:\n",
    "    sys.path.append(module_path)\n",
    "sys.path.append('/srv/share2/apatni30/raster-net/comparison/cross_view_transformers/cross_view_transformer/')\n"
   ]
  },
  {
   "cell_type": "code",
   "execution_count": 18,
   "metadata": {},
   "outputs": [
    {
     "ename": "ImportError",
     "evalue": "attempted relative import with no known parent package",
     "output_type": "error",
     "traceback": [
      "\u001b[0;31m---------------------------------------------------------------------------\u001b[0m",
      "\u001b[0;31mImportError\u001b[0m                               Traceback (most recent call last)",
      "Cell \u001b[0;32mIn[18], line 1\u001b[0m\n\u001b[0;32m----> 1\u001b[0m \u001b[39mfrom\u001b[39;00m \u001b[39margoverse2_dataset\u001b[39;00m \u001b[39mimport\u001b[39;00m Argoverse2Dataset\n",
      "File \u001b[0;32m/coc/pskynet2/apatni30/raster-net/comparison/cross_view_transformers/cross_view_transformer/data/argoverse2_dataset.py:12\u001b[0m\n\u001b[1;32m      9\u001b[0m \u001b[39mimport\u001b[39;00m \u001b[39mpickle\u001b[39;00m\n\u001b[1;32m     11\u001b[0m \u001b[39mfrom\u001b[39;00m \u001b[39mpathlib\u001b[39;00m \u001b[39mimport\u001b[39;00m Path\n\u001b[0;32m---> 12\u001b[0m \u001b[39mfrom\u001b[39;00m \u001b[39m.\u001b[39;00m\u001b[39mcommon\u001b[39;00m \u001b[39mimport\u001b[39;00m get_split, INTERPOLATION, get_view_matrix, get_pose\n\u001b[1;32m     13\u001b[0m \u001b[39mfrom\u001b[39;00m \u001b[39m.\u001b[39;00m\u001b[39mtransforms\u001b[39;00m \u001b[39mimport\u001b[39;00m Sample, LoadDataTransform, SaveDataTransform\n\u001b[1;32m     15\u001b[0m \u001b[39mfrom\u001b[39;00m \u001b[39mav2\u001b[39;00m\u001b[39m.\u001b[39;00m\u001b[39mdatasets\u001b[39;00m\u001b[39m.\u001b[39;00m\u001b[39msensor\u001b[39;00m\u001b[39m.\u001b[39;00m\u001b[39mav2_sensor_dataloader\u001b[39;00m \u001b[39mimport\u001b[39;00m AV2SensorDataLoader\n",
      "\u001b[0;31mImportError\u001b[0m: attempted relative import with no known parent package"
     ]
    }
   ],
   "source": [
    "from argoverse2_dataset import Argoverse2Dataset"
   ]
  },
  {
   "cell_type": "code",
   "execution_count": null,
   "metadata": {},
   "outputs": [],
   "source": []
  }
 ],
 "metadata": {
  "kernelspec": {
   "display_name": "rasternet-v2",
   "language": "python",
   "name": "python3"
  },
  "language_info": {
   "codemirror_mode": {
    "name": "ipython",
    "version": 3
   },
   "file_extension": ".py",
   "mimetype": "text/x-python",
   "name": "python",
   "nbconvert_exporter": "python",
   "pygments_lexer": "ipython3",
   "version": "3.8.16"
  },
  "orig_nbformat": 4,
  "vscode": {
   "interpreter": {
    "hash": "b5fc7226648a9ead25a562411536e74e85341467ba9ff692902122fb42edf84d"
   }
  }
 },
 "nbformat": 4,
 "nbformat_minor": 2
}
